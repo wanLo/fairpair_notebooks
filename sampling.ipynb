{
 "cells": [
  {
   "attachments": {},
   "cell_type": "markdown",
   "metadata": {},
   "source": [
    "# Comparison of Sampling Techniques"
   ]
  },
  {
   "cell_type": "code",
   "execution_count": 2,
   "metadata": {},
   "outputs": [],
   "source": [
    "import numpy as np\n",
    "import pandas as pd\n",
    "import seaborn as sns\n",
    "\n",
    "from fairpair import *"
   ]
  },
  {
   "cell_type": "code",
   "execution_count": 3,
   "metadata": {},
   "outputs": [],
   "source": [
    "# Generate a new Graph to test sampling\n",
    "G = FairPairGraph()\n",
    "G.generate_groups(400, 200) # same size groups\n",
    "G.assign_skills(loc=0, scale=0.86142674, seed=42) # general skill distribution\n",
    "G.assign_bias(nodes=G.minority_nodes, loc=-1.43574282, scale=0.43071336, seed=42) # add bias to unprivileged group"
   ]
  },
  {
   "cell_type": "code",
   "execution_count": 167,
   "metadata": {},
   "outputs": [
    {
     "data": {
      "image/png": "[encoded data removed]",
      "text/plain": [
       "<Figure size 640x480 with 1 Axes>"
      ]
     },
     "metadata": {},
     "output_type": "display_data"
    }
   ],
   "source": [
    "df = pd.DataFrame.from_dict(dict(G.nodes(data=True)), orient='index')\n",
    "ax = sns.histplot(data=df, x='score', hue='minority', stat='proportion', bins=20, multiple='dodge')\n",
    "ax.legend(ax.get_legend().legend_handles, ['Privileged', 'Unprivileged'], title=None, frameon=False)\n",
    "sns.despine()\n",
    "plt.savefig('./plots/score_distribution_withoutBias.png', dpi=150, bbox_inches=\"tight\")"
   ]
  },
  {
   "attachments": {},
   "cell_type": "markdown",
   "metadata": {},
   "source": [
    "## Random Sampling"
   ]
  },
  {
   "cell_type": "code",
   "execution_count": null,
   "metadata": {},
   "outputs": [],
   "source": [
    "F = G.copy()\n",
    "sampling = RandomSampling(F, log_comparisons=True, log_success=True, warn=False)\n",
    "sampling.apply(iter=100, k=1)\n",
    "\n",
    "comparisons = F.comparisons\n",
    "print('minority comparisons:', round(sum([compared for node, compared in comparisons if node in F.minority_nodes]), 2))\n",
    "print('majority comparisons:', round(sum([compared for node, compared in comparisons if node in F.majority_nodes]), 2))\n",
    "\n",
    "success_rates = F.success_rates\n",
    "print('minority success rate:', round(np.mean([rate for node, rate in success_rates if node in F.minority_nodes]), 2))\n",
    "print('majority success rate:', round(np.mean([rate for node, rate in success_rates if node in F.majority_nodes]), 2))\n",
    "\n",
    "sampling.plot_comparisons_over_time(save_to='./plots/comparisons_randomSampling_withoutBias.png')\n",
    "sampling.plot_success_over_time(save_to='./plots/success_randomSampling_withoutBias.png')"
   ]
  },
  {
   "cell_type": "code",
   "execution_count": 250,
   "metadata": {},
   "outputs": [],
   "source": [
    "F = G.copy()\n",
    "sampling = RankSampling(F, warn=False)\n",
    "ranker = RankRecovery(F)\n",
    "ranking = None\n",
    "for i in range(100):\n",
    "    sampling.apply(iter=100, k=1, ranking=ranking)\n",
    "    if nx.is_strongly_connected(F):\n",
    "        ranking, other_nodes = ranker.apply(rank_using=rankCentrality)\n",
    "\n",
    "nodes = list(F.nodes(data='score'))\n",
    "nodes = [node[0] for node in sorted(nodes, key=lambda x:x[1])]\n",
    "A = nx.linalg.graphmatrix.adjacency_matrix(F, weight='weight', nodelist=nodes)\n",
    "A = A.todense()\n",
    "mask = nx.linalg.graphmatrix.adjacency_matrix(F, weight=None, nodelist=nodes) # get the non-existing edges\n",
    "mask = mask.todense()\n",
    "f = lambda x: x==0\n",
    "mask = f(mask)"
   ]
  },
  {
   "cell_type": "code",
   "execution_count": 251,
   "metadata": {},
   "outputs": [],
   "source": [
    "sns.heatmap(A, mask=mask, cmap='crest', xticklabels=False, yticklabels=False, cbar=True, square=True)\n",
    "sns.despine(top=False, right=False)\n",
    "plt.savefig('./plots/weight_matrix_rankSampling_10000iter.png', dpi=300, bbox_inches=\"tight\")\n",
    "plt.close()"
   ]
  },
  {
   "cell_type": "code",
   "execution_count": 245,
   "metadata": {},
   "outputs": [
    {
     "data": {
      "image/png": "[encoded data removed]",
      "text/plain": [
       "<Figure size 400x125 with 1 Axes>"
      ]
     },
     "metadata": {},
     "output_type": "display_data"
    }
   ],
   "source": [
    "A_masked = np.ma.array(data=A, mask=mask)\n",
    "plt.figure(figsize=(4,1.25))\n",
    "ax = sns.histplot(data=A_masked.flatten(), stat='proportion', bins=20)\n",
    "ax.set(ylim=(0,0.5))\n",
    "sns.despine()\n",
    "plt.savefig('./plots/weight_distr_rankSampling_10000iter.png', dpi=300, bbox_inches=\"tight\")"
   ]
  },
  {
   "attachments": {},
   "cell_type": "markdown",
   "metadata": {},
   "source": [
    "## ProbKnockout Sampling"
   ]
  },
  {
   "cell_type": "code",
   "execution_count": 5,
   "metadata": {},
   "outputs": [
    {
     "name": "stdout",
     "output_type": "stream",
     "text": [
      "minority comparisons: 3948\n",
      "majority comparisons: 4052\n",
      "minority success rate: 0.43\n",
      "majority success rate: 0.4\n"
     ]
    }
   ],
   "source": [
    "F = G.copy()\n",
    "sampling = ProbKnockoutSampling(F, log_comparisons=True, log_success=True, warn=False)\n",
    "sampling.apply(iter=100, k=1, min_prob=0.1)\n",
    "\n",
    "comparisons = F.comparisons\n",
    "print('minority comparisons:', round(sum([compared for node, compared in comparisons if node in F.minority_nodes]), 2))\n",
    "print('majority comparisons:', round(sum([compared for node, compared in comparisons if node in F.majority_nodes]), 2))\n",
    "\n",
    "success_rates = F.success_rates\n",
    "print('minority success rate:', round(np.mean([rate for node, rate in success_rates if node in F.minority_nodes]), 2))\n",
    "print('majority success rate:', round(np.mean([rate for node, rate in success_rates if node in F.majority_nodes]), 2))\n",
    "\n",
    "sampling.plot_comparisons_over_time(save_to='./plots/comparisons_probKnockout_withoutBias.png')\n",
    "sampling.plot_success_over_time(save_to='./plots/success_probKnockout_withoutBias.png')"
   ]
  },
  {
   "attachments": {},
   "cell_type": "markdown",
   "metadata": {},
   "source": [
    "## GroupKnockout Sampling"
   ]
  },
  {
   "cell_type": "code",
   "execution_count": 6,
   "metadata": {},
   "outputs": [
    {
     "name": "stdout",
     "output_type": "stream",
     "text": [
      "minority comparisons: 4066\n",
      "majority comparisons: 3934\n",
      "minority success rate: 0.51\n",
      "majority success rate: 0.5\n"
     ]
    }
   ],
   "source": [
    "F = G.copy()\n",
    "sampling = GroupKnockoutSampling(F, log_comparisons=True, log_success=True, warn=False)\n",
    "sampling.apply(iter=100, k=1)\n",
    "\n",
    "comparisons = F.comparisons\n",
    "print('minority comparisons:', round(sum([compared for node, compared in comparisons if node in F.minority_nodes]), 2))\n",
    "print('majority comparisons:', round(sum([compared for node, compared in comparisons if node in F.majority_nodes]), 2))\n",
    "\n",
    "success_rates = F.success_rates\n",
    "print('minority success rate:', round(np.mean([rate for node, rate in success_rates if node in F.minority_nodes]), 2))\n",
    "print('majority success rate:', round(np.mean([rate for node, rate in success_rates if node in F.majority_nodes]), 2))\n",
    "\n",
    "sampling.plot_comparisons_over_time(save_to='./plots/comparisons_groupKnockout_withoutBias.png')\n",
    "sampling.plot_success_over_time(save_to='./plots/success_groupKnockout_withoutBias.png')"
   ]
  },
  {
   "attachments": {},
   "cell_type": "markdown",
   "metadata": {},
   "source": [
    "## OversampleMinority"
   ]
  },
  {
   "cell_type": "code",
   "execution_count": 7,
   "metadata": {},
   "outputs": [
    {
     "name": "stdout",
     "output_type": "stream",
     "text": [
      "minority comparisons: 6000\n",
      "majority comparisons: 2000\n",
      "minority success rate: 0.5\n",
      "majority success rate: 0.51\n"
     ]
    }
   ],
   "source": [
    "F = G.copy()\n",
    "sampling = OversampleMinority(F, log_comparisons=True, log_success=True, warn=False)\n",
    "sampling.apply(iter=100, k=1, p=0.75)\n",
    "\n",
    "comparisons = F.comparisons\n",
    "print('minority comparisons:', round(sum([compared for node, compared in comparisons if node in F.minority_nodes]), 2))\n",
    "print('majority comparisons:', round(sum([compared for node, compared in comparisons if node in F.majority_nodes]), 2))\n",
    "\n",
    "success_rates = F.success_rates\n",
    "print('minority success rate:', round(np.mean([rate for node, rate in success_rates if node in F.minority_nodes]), 2))\n",
    "print('majority success rate:', round(np.mean([rate for node, rate in success_rates if node in F.majority_nodes]), 2))\n",
    "\n",
    "sampling.plot_comparisons_over_time(save_to='./plots/comparisons_oversampleMinority_withoutBias.png')\n",
    "sampling.plot_success_over_time(save_to='./plots/success_oversampleMinority_withoutBias.png')"
   ]
  },
  {
   "attachments": {},
   "cell_type": "markdown",
   "metadata": {},
   "source": [
    "## Rank-Based Sampling"
   ]
  },
  {
   "cell_type": "code",
   "execution_count": 8,
   "metadata": {},
   "outputs": [
    {
     "name": "stdout",
     "output_type": "stream",
     "text": [
      "minority comparisons: 4024\n",
      "majority comparisons: 3976\n",
      "minority success rate: 0.4\n",
      "majority success rate: 0.39\n"
     ]
    }
   ],
   "source": [
    "F = G.copy()\n",
    "sampling = RankSampling(F, log_comparisons=True, log_success=True, warn=False)\n",
    "ranker = RankRecovery(F)\n",
    "ranking = None\n",
    "for i in range(100):\n",
    "    sampling.apply(iter=1, k=1, ranking=ranking)\n",
    "    if nx.is_strongly_connected(F):\n",
    "        ranking, other_nodes = ranker.apply(rank_using=rankCentrality)\n",
    "\n",
    "comparisons = F.comparisons\n",
    "print('minority comparisons:', round(sum([compared for node, compared in comparisons if node in F.minority_nodes]), 2))\n",
    "print('majority comparisons:', round(sum([compared for node, compared in comparisons if node in F.majority_nodes]), 2))\n",
    "\n",
    "success_rates = F.success_rates\n",
    "print('minority success rate:', round(np.mean([rate for node, rate in success_rates if node in F.minority_nodes]), 2))\n",
    "print('majority success rate:', round(np.mean([rate for node, rate in success_rates if node in F.majority_nodes]), 2))\n",
    "\n",
    "sampling.plot_comparisons_over_time(save_to='./plots/comparisons_rankSampling_withoutBias.png')\n",
    "sampling.plot_success_over_time(save_to='./plots/success_rankSampling_withoutBias.png')"
   ]
  }
 ],
 "metadata": {
  "kernelspec": {
   "display_name": "Python 3",
   "language": "python",
   "name": "python3"
  },
  "language_info": {
   "codemirror_mode": {
    "name": "ipython",
    "version": 3
   },
   "file_extension": ".py",
   "mimetype": "text/x-python",
   "name": "python",
   "nbconvert_exporter": "python",
   "pygments_lexer": "ipython3",
   "version": "3.11.3"
  },
  "orig_nbformat": 4
 },
 "nbformat": 4,
 "nbformat_minor": 2
}
