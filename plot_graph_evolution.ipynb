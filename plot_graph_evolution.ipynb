{
 "cells": [
  {
   "attachments": {},
   "cell_type": "markdown",
   "metadata": {},
   "source": [
    "# Concat multiple iterations of sampling for coherent layout in Gephi"
   ]
  },
  {
   "cell_type": "code",
   "execution_count": 1,
   "metadata": {},
   "outputs": [],
   "source": [
    "import numpy as np\n",
    "import pandas as pd\n",
    "import networkx as nx\n",
    "\n",
    "from fairpair import *"
   ]
  },
  {
   "cell_type": "code",
   "execution_count": 2,
   "metadata": {},
   "outputs": [],
   "source": [
    "G = FairPairGraph()\n",
    "G.generate_groups(15, 5)\n",
    "G.group_assign_scores(nodes=G.majority_nodes, distr=Distributions.normal_distr)\n",
    "G.group_assign_scores(nodes=G.minority_nodes, distr=Distributions.normal_distr, loc=0.3, scale=0.2) # give a disadvantage to the minority"
   ]
  },
  {
   "cell_type": "code",
   "execution_count": 3,
   "metadata": {},
   "outputs": [],
   "source": [
    "H = nx.MultiDiGraph()\n",
    "H.add_nodes_from(G.nodes(data=True))"
   ]
  },
  {
   "cell_type": "code",
   "execution_count": 4,
   "metadata": {},
   "outputs": [
    {
     "name": "stdout",
     "output_type": "stream",
     "text": [
      "8\n",
      "20\n",
      "32\n",
      "44\n",
      "58\n",
      "72\n",
      "86\n",
      "100\n",
      "116\n",
      "134\n"
     ]
    }
   ],
   "source": [
    "for iteration in range(10):\n",
    "    sampling = ProbKnockoutSampling(G, warn=False)\n",
    "    sampling.apply(iter=1, k=1)\n",
    "    # get the current graph and add it to the multigraph, but label edges by iteration\n",
    "    edges = [(i, j, {**data, 'iteration': iteration}) for i, j, data in G.edges(data=True)]\n",
    "    H.add_edges_from(edges)\n",
    "    print(len(H.edges))"
   ]
  },
  {
   "cell_type": "code",
   "execution_count": 5,
   "metadata": {},
   "outputs": [
    {
     "data": {
      "text/plain": [
       "[(2, 5, {'wins': 0, 'weight': 0.0, 'iteration': 0}),\n",
       " (2, 5, {'wins': 0, 'weight': 0.0, 'iteration': 1}),\n",
       " (2, 5, {'wins': 0, 'weight': 0.0, 'iteration': 2})]"
      ]
     },
     "execution_count": 5,
     "metadata": {},
     "output_type": "execute_result"
    }
   ],
   "source": [
    "list(H.edges(data=True))[:3]"
   ]
  },
  {
   "cell_type": "code",
   "execution_count": 6,
   "metadata": {},
   "outputs": [],
   "source": [
    "for node in H.nodes(data=True):\n",
    "    node[1]['minority'] = bool(node[1]['minority']) # convert from numpy\n",
    "nx.write_gexf(H, 'data/multigraphtest.gexf')"
   ]
  },
  {
   "cell_type": "code",
   "execution_count": null,
   "metadata": {},
   "outputs": [],
   "source": []
  }
 ],
 "metadata": {
  "kernelspec": {
   "display_name": "Python 3",
   "language": "python",
   "name": "python3"
  },
  "language_info": {
   "codemirror_mode": {
    "name": "ipython",
    "version": 3
   },
   "file_extension": ".py",
   "mimetype": "text/x-python",
   "name": "python",
   "nbconvert_exporter": "python",
   "pygments_lexer": "ipython3",
   "version": "3.11.3"
  },
  "orig_nbformat": 4
 },
 "nbformat": 4,
 "nbformat_minor": 2
}
