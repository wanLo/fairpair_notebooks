{
 "cells": [
  {
   "attachments": {},
   "cell_type": "markdown",
   "metadata": {},
   "source": [
    "# Apply Ranking Recovery Algorithms"
   ]
  },
  {
   "cell_type": "code",
   "execution_count": 1,
   "metadata": {},
   "outputs": [],
   "source": [
    "import pandas as pd\n",
    "import seaborn as sns\n",
    "\n",
    "from fairpair import *"
   ]
  },
  {
   "cell_type": "code",
   "execution_count": 2,
   "metadata": {},
   "outputs": [],
   "source": [
    "# create a FairPairGraph with disadvantaged minority\n",
    "G = FairPairGraph()\n",
    "G.generate_groups(15, 5)\n",
    "G.group_assign_scores(nodes=G.majority_nodes, distr=Distributions.normal_distr)\n",
    "G.group_assign_scores(nodes=G.minority_nodes, distr=Distributions.normal_distr, loc=0.3, scale=0.2) # give a disadvantage to the minority"
   ]
  },
  {
   "cell_type": "code",
   "execution_count": 3,
   "metadata": {},
   "outputs": [
    {
     "data": {
      "text/html": [
       "<div>\n",
       "<style scoped>\n",
       "    .dataframe tbody tr th:only-of-type {\n",
       "        vertical-align: middle;\n",
       "    }\n",
       "\n",
       "    .dataframe tbody tr th {\n",
       "        vertical-align: top;\n",
       "    }\n",
       "\n",
       "    .dataframe thead th {\n",
       "        text-align: right;\n",
       "    }\n",
       "</style>\n",
       "<table border=\"1\" class=\"dataframe\">\n",
       "  <thead>\n",
       "    <tr style=\"text-align: right;\">\n",
       "      <th></th>\n",
       "      <th>node</th>\n",
       "      <th>orig score</th>\n",
       "      <th>rank score</th>\n",
       "    </tr>\n",
       "  </thead>\n",
       "  <tbody>\n",
       "    <tr>\n",
       "      <th>0</th>\n",
       "      <td>6</td>\n",
       "      <td>0.808455</td>\n",
       "      <td>22.841510</td>\n",
       "    </tr>\n",
       "    <tr>\n",
       "      <th>1</th>\n",
       "      <td>14</td>\n",
       "      <td>0.621010</td>\n",
       "      <td>21.604426</td>\n",
       "    </tr>\n",
       "    <tr>\n",
       "      <th>2</th>\n",
       "      <td>13</td>\n",
       "      <td>0.512326</td>\n",
       "      <td>14.302932</td>\n",
       "    </tr>\n",
       "    <tr>\n",
       "      <th>3</th>\n",
       "      <td>2</td>\n",
       "      <td>0.613737</td>\n",
       "      <td>11.448713</td>\n",
       "    </tr>\n",
       "    <tr>\n",
       "      <th>4</th>\n",
       "      <td>0</td>\n",
       "      <td>0.616879</td>\n",
       "      <td>10.846605</td>\n",
       "    </tr>\n",
       "    <tr>\n",
       "      <th>5</th>\n",
       "      <td>5</td>\n",
       "      <td>0.862593</td>\n",
       "      <td>9.706722</td>\n",
       "    </tr>\n",
       "    <tr>\n",
       "      <th>6</th>\n",
       "      <td>7</td>\n",
       "      <td>0.541242</td>\n",
       "      <td>8.677644</td>\n",
       "    </tr>\n",
       "    <tr>\n",
       "      <th>7</th>\n",
       "      <td>9</td>\n",
       "      <td>0.546671</td>\n",
       "      <td>6.448091</td>\n",
       "    </tr>\n",
       "    <tr>\n",
       "      <th>8</th>\n",
       "      <td>8</td>\n",
       "      <td>0.269521</td>\n",
       "      <td>4.828662</td>\n",
       "    </tr>\n",
       "    <tr>\n",
       "      <th>9</th>\n",
       "      <td>4</td>\n",
       "      <td>0.496484</td>\n",
       "      <td>0.108165</td>\n",
       "    </tr>\n",
       "    <tr>\n",
       "      <th>10</th>\n",
       "      <td>1</td>\n",
       "      <td>0.199228</td>\n",
       "      <td>-12.196597</td>\n",
       "    </tr>\n",
       "    <tr>\n",
       "      <th>11</th>\n",
       "      <td>11</td>\n",
       "      <td>0.202237</td>\n",
       "      <td>-13.644424</td>\n",
       "    </tr>\n",
       "    <tr>\n",
       "      <th>12</th>\n",
       "      <td>12</td>\n",
       "      <td>0.180614</td>\n",
       "      <td>-15.444543</td>\n",
       "    </tr>\n",
       "    <tr>\n",
       "      <th>13</th>\n",
       "      <td>10</td>\n",
       "      <td>0.113865</td>\n",
       "      <td>-26.283689</td>\n",
       "    </tr>\n",
       "    <tr>\n",
       "      <th>14</th>\n",
       "      <td>3</td>\n",
       "      <td>0.000100</td>\n",
       "      <td>-43.244216</td>\n",
       "    </tr>\n",
       "  </tbody>\n",
       "</table>\n",
       "</div>"
      ],
      "text/plain": [
       "    node  orig score  rank score\n",
       "0      6    0.808455   22.841510\n",
       "1     14    0.621010   21.604426\n",
       "2     13    0.512326   14.302932\n",
       "3      2    0.613737   11.448713\n",
       "4      0    0.616879   10.846605\n",
       "5      5    0.862593    9.706722\n",
       "6      7    0.541242    8.677644\n",
       "7      9    0.546671    6.448091\n",
       "8      8    0.269521    4.828662\n",
       "9      4    0.496484    0.108165\n",
       "10     1    0.199228  -12.196597\n",
       "11    11    0.202237  -13.644424\n",
       "12    12    0.180614  -15.444543\n",
       "13    10    0.113865  -26.283689\n",
       "14     3    0.000100  -43.244216"
      ]
     },
     "execution_count": 3,
     "metadata": {},
     "output_type": "execute_result"
    }
   ],
   "source": [
    "# run 100 iterations of ProbKnockout sampling\n",
    "sampler = OversampleMinority(G, warn=False)\n",
    "sampler.apply(iter=1000, k=1)\n",
    "# apply davidScore for ranking recovery\n",
    "ranker = RankRecovery(G)\n",
    "ranking, other_nodes = ranker.apply(rank_using=davidScore) # by default, apply rankCentrality method\n",
    "ranker._print_with_score(ranking) # sorted by rank score"
   ]
  },
  {
   "attachments": {},
   "cell_type": "markdown",
   "metadata": {},
   "source": [
    "## Metrics"
   ]
  },
  {
   "cell_type": "code",
   "execution_count": 4,
   "metadata": {},
   "outputs": [
    {
     "name": "stdout",
     "output_type": "stream",
     "text": [
      "Majority NDCG (by score): 0.9721691036554142\n",
      "Minority NDCG (by score): 1.0\n",
      "Majority MSE (by score): 0.0537064709457218\n",
      "Minority MSE (by score): 0.07933076475103859\n"
     ]
    }
   ],
   "source": [
    "# score-based metrics\n",
    "print(\"Majority NDCG (by score):\", NDCG(G.majority, ranking)) # NDCG is only calculated as a \"in-group\" comparison because it is normalized\n",
    "print(\"Minority NDCG (by score):\", NDCG(G.minority, ranking))\n",
    "print(\"Majority MSE (by score):\", MSE(G.majority, ranking))\n",
    "print(\"Minority MSE (by score):\", MSE(G.minority, ranking))"
   ]
  },
  {
   "cell_type": "code",
   "execution_count": 5,
   "metadata": {},
   "outputs": [
    {
     "name": "stdout",
     "output_type": "stream",
     "text": [
      "Majority mean error (by rank): -0.5\n",
      "Minority mean error (by rank): 1.0\n",
      "Majority MSE (by rank): 3.5\n",
      "Minority MSE (by rank): 5.4\n",
      "Majority Spearman's rho: PearsonRResult(statistic=0.9035714891476541, pvalue=0.00033623167191990447)\n",
      "Minority Spearman's rho: PearsonRResult(statistic=0.9295172508680996, pvalue=0.02222350284454909)\n"
     ]
    }
   ],
   "source": [
    "# rank-based metrics\n",
    "print(\"Majority mean error (by rank):\", rank_mean_error(G, ranking, G.majority))\n",
    "print(\"Minority mean error (by rank):\", rank_mean_error(G, ranking, G.minority))\n",
    "print(\"Majority MSE (by rank):\", rank_MSE(G, ranking, G.majority))\n",
    "print(\"Minority MSE (by rank):\", rank_MSE(G, ranking, G.minority))\n",
    "print(\"Majority Spearman's rho:\", spearmanr(G, ranking, G.majority))\n",
    "print(\"Minority Spearman's rho:\", spearmanr(G, ranking, G.minority))"
   ]
  },
  {
   "cell_type": "code",
   "execution_count": 6,
   "metadata": {},
   "outputs": [
    {
     "name": "stdout",
     "output_type": "stream",
     "text": [
      "Majority weighted Kendall tau: 0.1697556492155082\n",
      "Minority weighted Kendall tau: 0.15277946444783344\n"
     ]
    }
   ],
   "source": [
    "# weighted Kendall tau\n",
    "print(\"Majority weighted Kendall tau:\", weighted_tau(G, ranking, G.majority))\n",
    "print(\"Minority weighted Kendall tau:\", weighted_tau(G, ranking, G.minority))"
   ]
  },
  {
   "cell_type": "code",
   "execution_count": 7,
   "metadata": {},
   "outputs": [
    {
     "name": "stdout",
     "output_type": "stream",
     "text": [
      "Overall Spearman r: PearsonRResult(statistic=0.8892857142857142, pvalue=9.192974758842205e-06)\n",
      "--\n",
      "Overall weighted Kendall tau: 0.16358761184285264\n"
     ]
    }
   ],
   "source": [
    "print(\"Overall Spearman r:\", spearmanr(G, ranking))\n",
    "print('--')\n",
    "print(\"Overall weighted Kendall tau:\", weighted_tau(G, ranking))"
   ]
  },
  {
   "cell_type": "code",
   "execution_count": null,
   "metadata": {},
   "outputs": [],
   "source": []
  }
 ],
 "metadata": {
  "kernelspec": {
   "display_name": "Python 3",
   "language": "python",
   "name": "python3"
  },
  "language_info": {
   "codemirror_mode": {
    "name": "ipython",
    "version": 3
   },
   "file_extension": ".py",
   "mimetype": "text/x-python",
   "name": "python",
   "nbconvert_exporter": "python",
   "pygments_lexer": "ipython3",
   "version": "3.11.3"
  },
  "orig_nbformat": 4
 },
 "nbformat": 4,
 "nbformat_minor": 2
}
