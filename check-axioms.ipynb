{
 "cells": [
  {
   "cell_type": "code",
   "execution_count": 1,
   "metadata": {},
   "outputs": [],
   "source": [
    "import networkx as nx\n",
    "import pandas as pd\n",
    "\n",
    "from fairpair import *"
   ]
  },
  {
   "cell_type": "code",
   "execution_count": 2,
   "metadata": {},
   "outputs": [],
   "source": [
    "def plot_ranking(G:FairPairGraph, ranking:dict):\n",
    "    ranking = {node:rank for node, rank in sorted(ranking.items(), key=lambda x:x[1], reverse=True)}\n",
    "    data = []\n",
    "    for node, rank in ranking.items():\n",
    "        data.append((G.nodes(data='minority')[node], G.nodes(data='score')[node], rank))\n",
    "    return pd.DataFrame(data, columns=['Protected', 'Score', 'Rank'])\n",
    "\n",
    "def plot_ranking_short(G:FairPairGraph, ranking:dict):\n",
    "    ranking = {node:rank for node, rank in sorted(ranking.items(), key=lambda x:x[1], reverse=True)}\n",
    "    data = []\n",
    "    for node in ranking.keys():\n",
    "        data.append('M' if G.nodes(data='minority')[node] else '_')\n",
    "    return ' '.join(data)\n",
    "\n",
    "def evaluate_tau(G:FairPairGraph, ranking:dict):\n",
    "    tau_min = weighted_tau(G, ranking, G.minority)\n",
    "    tau_maj = weighted_tau(G, ranking, G.majority)\n",
    "    return f'protected: {tau_min:.2f}, unprotected: {tau_maj:.2f}, difference: {tau_min - tau_maj:.2f}, ratio: {tau_min/tau_maj if tau_maj>0 else 0:.2f}'\n",
    "\n",
    "def create_graph_ranking(len:int):\n",
    "    G = FairPairGraph()\n",
    "    G.add_nodes_from(range(len))\n",
    "    scores = {n:(len-n) for n in range(len)}\n",
    "    nx.function.set_node_attributes(G, scores, 'score')\n",
    "    labels = {node:False for node in G.nodes}\n",
    "    nx.function.set_node_attributes(G, labels, 'minority')\n",
    "    ranking = {n:(len-n) for n in range(len)}\n",
    "    return G, ranking"
   ]
  },
  {
   "attachments": {},
   "cell_type": "markdown",
   "metadata": {},
   "source": [
    "## 1: Distinguishability of Groups"
   ]
  },
  {
   "cell_type": "code",
   "execution_count": 3,
   "metadata": {},
   "outputs": [
    {
     "name": "stdout",
     "output_type": "stream",
     "text": [
      "original ranking:  _ _ M _ _ M _ _\n",
      "Kemedy distances:  protected: 0.00, unprotected: 0.00, difference: 0.00, ratio: 0.00 \n",
      "\n",
      "with disadvantage: _ _ _ M _ _ M _\n",
      "Kemedy distances:  protected: 0.29, unprotected: 0.17, difference: 0.11, ratio: 1.65 \n",
      "\n",
      "with advantage:    _ M _ _ M _ _ _\n",
      "Kemedy distances:  protected: 0.29, unprotected: 0.17, difference: 0.11, ratio: 1.65 \n",
      "\n"
     ]
    }
   ],
   "source": [
    "G, ranking = create_graph_ranking(8)\n",
    "nx.function.set_node_attributes(G, {2:True, 5:True}, 'minority')\n",
    "print('original ranking: ', plot_ranking_short(G, ranking))\n",
    "print('Kemedy distances: ', evaluate_tau(G, ranking), '\\n')\n",
    "\n",
    "ranking2 = {node:(rank-2 if G.nodes(data='minority')[node] else rank) for node, rank in ranking.items()}\n",
    "print('with disadvantage:', plot_ranking_short(G, ranking2))\n",
    "print('Kemedy distances: ', evaluate_tau(G, ranking2), '\\n')\n",
    "\n",
    "ranking3 = {node:(rank+2 if G.nodes(data='minority')[node] else rank) for node, rank in ranking.items()}\n",
    "print('with advantage:   ', plot_ranking_short(G, ranking3))\n",
    "print('Kemedy distances: ', evaluate_tau(G, ranking3), '\\n')"
   ]
  },
  {
   "attachments": {},
   "cell_type": "markdown",
   "metadata": {},
   "source": [
    "    Considering \"disadvantage\" as a lower rank than would be appropriate given the ground-truth scores and vice versa. We thus look at accuracy and not a the mere position in the ranking. Both difference and ratio fail."
   ]
  },
  {
   "attachments": {},
   "cell_type": "markdown",
   "metadata": {},
   "source": [
    "## 2: Boundedness"
   ]
  },
  {
   "cell_type": "code",
   "execution_count": 4,
   "metadata": {},
   "outputs": [
    {
     "name": "stdout",
     "output_type": "stream",
     "text": [
      "original ranking:  M _ _ _ _ _ _ _\n",
      "Kemedy distances:  protected: 0.00, unprotected: 0.00, difference: 0.00, ratio: 0.00 \n",
      "\n",
      "worst case:        _ _ _ _ _ _ _ M\n",
      "Kemedy distances:  protected: 1.00, unprotected: 0.65, difference: 0.35, ratio: 1.55 \n",
      "\n",
      "worst case longer: _ _ _ _ _ _ _ _ _ _ _ _ _ _ _ _ _ _ _ M\n",
      "Kemedy distances:  protected: 1.00, unprotected: 0.43, difference: 0.57, ratio: 2.32 \n",
      "\n"
     ]
    }
   ],
   "source": [
    "G, ranking = create_graph_ranking(8)\n",
    "nx.function.set_node_attributes(G, {0:True}, 'minority')\n",
    "print('original ranking: ', plot_ranking_short(G, ranking))\n",
    "print('Kemedy distances: ', evaluate_tau(G, ranking), '\\n')\n",
    "\n",
    "ranking[0] = -1\n",
    "print('worst case:       ', plot_ranking_short(G, ranking))\n",
    "print('Kemedy distances: ', evaluate_tau(G, ranking), '\\n')\n",
    "\n",
    "G, ranking = create_graph_ranking(20)\n",
    "nx.function.set_node_attributes(G, {0:True}, 'minority')\n",
    "ranking[0] = -1\n",
    "print('worst case longer:', plot_ranking_short(G, ranking))\n",
    "print('Kemedy distances: ', evaluate_tau(G, ranking), '\\n')"
   ]
  },
  {
   "attachments": {},
   "cell_type": "markdown",
   "metadata": {},
   "source": [
    "    Holds for tau itself because of normalization to (0,1). Therefore holds for difference (in -1,1), but fails for ratio."
   ]
  },
  {
   "attachments": {},
   "cell_type": "markdown",
   "metadata": {},
   "source": [
    "## 3: Monotonicity"
   ]
  },
  {
   "cell_type": "code",
   "execution_count": 31,
   "metadata": {},
   "outputs": [
    {
     "name": "stdout",
     "output_type": "stream",
     "text": [
      "--- equal relevance of protected and unprotected candidate ---\n",
      "original ranking:  _ _ M _ _ M _ _\n",
      "relevances:        8 7 6 5 4 4 2 1\n",
      "Kemedy distances:  protected: 0.00, unprotected: 0.00, difference: 0.00, ratio: 0.00 \n",
      "\n",
      "swap 4 and 5:      _ _ M _ M _ _ _\n",
      "Kemedy distances:  protected: 0.00, unprotected: 0.00, difference: 0.00, ratio: 0.00 \n",
      "\n"
     ]
    }
   ],
   "source": [
    "print('--- equal relevance of protected and unprotected candidate ---')\n",
    "G, ranking = create_graph_ranking(8)\n",
    "nx.function.set_node_attributes(G, {2:True, 5:True}, 'minority')\n",
    "nx.function.set_node_attributes(G, {4:4, 5:4}, 'score')\n",
    "print('original ranking: ', plot_ranking_short(G, ranking))\n",
    "print('relevances:       ', ' '.join([str(score) for node, score in G.nodes(data='score')]))\n",
    "print('Kemedy distances: ', evaluate_tau(G, ranking), '\\n')\n",
    "\n",
    "ranking.update({4:3, 5:4})\n",
    "print('swap 4 and 5:     ', plot_ranking_short(G, ranking))\n",
    "print('Kemedy distances: ', evaluate_tau(G, ranking), '\\n')"
   ]
  },
  {
   "cell_type": "code",
   "execution_count": 32,
   "metadata": {},
   "outputs": [
    {
     "name": "stdout",
     "output_type": "stream",
     "text": [
      "--- higher relevance of protected candidate ---\n",
      "original ranking:  _ _ M _ _ M _ _\n",
      "relevances:        8 7 6 5 4 5 2 1\n",
      "Kemedy distances:  protected: 0.10, unprotected: 0.06, difference: 0.05, ratio: 1.85 \n",
      "\n",
      "swap 4 and 5:      _ _ M _ M _ _ _\n",
      "Kemedy distances:  protected: 0.00, unprotected: 0.00, difference: 0.00, ratio: 0.00 \n",
      "\n"
     ]
    }
   ],
   "source": [
    "print('--- higher relevance of protected candidate ---')\n",
    "G, ranking = create_graph_ranking(8)\n",
    "nx.function.set_node_attributes(G, {2:True, 5:True}, 'minority')\n",
    "nx.function.set_node_attributes(G, {4:4, 5:5}, 'score')\n",
    "print('original ranking: ', plot_ranking_short(G, ranking))\n",
    "print('relevances:       ', ' '.join([str(score) for node, score in G.nodes(data='score')]))\n",
    "print('Kemedy distances: ', evaluate_tau(G, ranking), '\\n')\n",
    "\n",
    "ranking = ranking.copy()\n",
    "ranking.update({4:3, 5:4})\n",
    "print('swap 4 and 5:     ', plot_ranking_short(G, ranking))\n",
    "print('Kemedy distances: ', evaluate_tau(G, ranking), '\\n')"
   ]
  },
  {
   "attachments": {},
   "cell_type": "markdown",
   "metadata": {},
   "source": [
    "    Partially satisfied, because it only holds if swapping two candidated corrects a mistake in the ranking, i.e. if the lower ranked, protected candidate has higher relevance. Does not hold if the lower ranked, protected candidate has equal relevance."
   ]
  },
  {
   "attachments": {},
   "cell_type": "markdown",
   "metadata": {},
   "source": [
    "## 4: Deepness"
   ]
  },
  {
   "cell_type": "code",
   "execution_count": 33,
   "metadata": {},
   "outputs": [
    {
     "name": "stdout",
     "output_type": "stream",
     "text": [
      "original ranking:  _ _ M _ _ M _ _\n",
      "relevances:        8 7 6 5 4 3 2 1\n",
      "Kemedy distances:  protected: 0.00, unprotected: 0.00, difference: 0.00, ratio: 0.00 \n",
      "\n",
      "swap 4 and 5:      _ _ M _ M _ _ _\n",
      "Kemedy distances:  protected: 0.09, unprotected: 0.06, difference: 0.04, ratio: 1.65 \n",
      "\n",
      "swap 1 and 2:      _ M _ _ _ M _ _\n",
      "Kemedy distances:  protected: 0.09, unprotected: 0.06, difference: 0.04, ratio: 1.65 \n",
      "\n",
      "swap 0 and 2:      M _ _ _ _ M _ _\n",
      "Kemedy distances:  protected: 0.20, unprotected: 0.14, difference: 0.07, ratio: 1.51 \n",
      "\n"
     ]
    }
   ],
   "source": [
    "G, ranking = create_graph_ranking(8)\n",
    "nx.function.set_node_attributes(G, {2:True, 5:True}, 'minority')\n",
    "print('original ranking: ', plot_ranking_short(G, ranking))\n",
    "print('relevances:       ', ' '.join([str(score) for node, score in G.nodes(data='score')]))\n",
    "print('Kemedy distances: ', evaluate_tau(G, ranking), '\\n')\n",
    "\n",
    "ranking2 = ranking.copy()\n",
    "ranking2.update({4:3, 5:4})\n",
    "print('swap 4 and 5:     ', plot_ranking_short(G, ranking2))\n",
    "print('Kemedy distances: ', evaluate_tau(G, ranking2), '\\n')\n",
    "\n",
    "ranking3 = ranking.copy()\n",
    "ranking3.update({1:6, 2:7})\n",
    "print('swap 1 and 2:     ', plot_ranking_short(G, ranking3))\n",
    "print('Kemedy distances: ', evaluate_tau(G, ranking3), '\\n')\n",
    "\n",
    "ranking4 = ranking.copy()\n",
    "ranking4.update({0:6, 2:8})\n",
    "print('swap 0 and 2:     ', plot_ranking_short(G, ranking4))\n",
    "print('Kemedy distances: ', evaluate_tau(G, ranking4), '\\n')"
   ]
  },
  {
   "attachments": {},
   "cell_type": "markdown",
   "metadata": {},
   "source": [
    "    Both difference and ratio fail because there is no positional discount. However, swaps between candidates from different groups further away yield higher per-group Kemedy distances and a higher difference (always??). Ratio is not monotonous with the swapping distance."
   ]
  },
  {
   "attachments": {},
   "cell_type": "markdown",
   "metadata": {},
   "source": [
    "## 5: Intra-Group Fairness"
   ]
  },
  {
   "cell_type": "code",
   "execution_count": 38,
   "metadata": {},
   "outputs": [
    {
     "name": "stdout",
     "output_type": "stream",
     "text": [
      "--- swap protected group ---\n",
      "original ranking:  _ _ M _ _ M _ _\n",
      "relevances:        8 7 3 5 4 6 2 1\n",
      "Kemedy distances:  protected: 0.48, unprotected: 0.17, difference: 0.31, ratio: 2.77 \n",
      "\n",
      "swap 2 and 5:      _ _ M _ _ M _ _\n",
      "relevances:        8 7 6 5 4 3 2 1\n",
      "Kemedy distances:  protected: 0.00, unprotected: 0.00, difference: 0.00, ratio: 0.00 \n",
      "\n"
     ]
    }
   ],
   "source": [
    "print('--- swap protected group ---')\n",
    "G, ranking = create_graph_ranking(8)\n",
    "nx.function.set_node_attributes(G, {2:True, 5:True}, 'minority')\n",
    "nx.function.set_node_attributes(G, {2:3, 5:6}, 'score')\n",
    "print('original ranking: ', plot_ranking_short(G, ranking))\n",
    "print('relevances:       ', ' '.join([str(score) for node, score in G.nodes(data='score')]))\n",
    "print('Kemedy distances: ', evaluate_tau(G, ranking), '\\n')\n",
    "\n",
    "ranking.update({2:3, 5:6})\n",
    "print('swap 2 and 5:     ', plot_ranking_short(G, ranking))\n",
    "ranking2 = {node:rank for node, rank in sorted(ranking.items(), key=lambda x:x[1], reverse=True)}\n",
    "print('relevances:       ', ' '.join([str(G.nodes(data='score')[node]) for node, _ in ranking2.items()]))\n",
    "print('Kemedy distances: ', evaluate_tau(G, ranking), '\\n')"
   ]
  },
  {
   "cell_type": "code",
   "execution_count": 43,
   "metadata": {},
   "outputs": [
    {
     "name": "stdout",
     "output_type": "stream",
     "text": [
      "--- swap unprotected group ---\n",
      "original ranking:  _ _ M _ _ M _ _\n",
      "relevances:        8 4 6 5 7 3 2 1\n",
      "Kemedy distances:  protected: 0.20, unprotected: 0.24, difference: -0.04, ratio: 0.85 \n",
      "\n",
      "swap 1 and 4:      _ _ M _ _ M _ _\n",
      "relevances:        8 7 6 5 4 3 2 1\n",
      "Kemedy distances:  protected: 0.00, unprotected: 0.00, difference: 0.00, ratio: 0.00 \n",
      "\n"
     ]
    }
   ],
   "source": [
    "print('--- swap unprotected group ---')\n",
    "G, ranking = create_graph_ranking(8)\n",
    "nx.function.set_node_attributes(G, {2:True, 5:True}, 'minority')\n",
    "nx.function.set_node_attributes(G, {1:4, 4:7}, 'score')\n",
    "print('original ranking: ', plot_ranking_short(G, ranking))\n",
    "print('relevances:       ', ' '.join([str(score) for node, score in G.nodes(data='score')]))\n",
    "print('Kemedy distances: ', evaluate_tau(G, ranking), '\\n')\n",
    "\n",
    "ranking.update({1:4, 4:7})\n",
    "print('swap 1 and 4:     ', plot_ranking_short(G, ranking))\n",
    "ranking2 = {node:rank for node, rank in sorted(ranking.items(), key=lambda x:x[1], reverse=True)}\n",
    "print('relevances:       ', ' '.join([str(G.nodes(data='score')[node]) for node, _ in ranking2.items()]))\n",
    "print('Kemedy distances: ', evaluate_tau(G, ranking), '\\n')"
   ]
  },
  {
   "attachments": {},
   "cell_type": "markdown",
   "metadata": {},
   "source": [
    "    Swapping in concordance always improves Kemedy distances. So swapping the protected group improves their accuracy and lowers the difference, and swapping the unprotected group improves their accuracy and increases the difference (satisfied). Does not hold for the ratio, however, as it is lowered either way."
   ]
  },
  {
   "attachments": {},
   "cell_type": "markdown",
   "metadata": {},
   "source": [
    "## 6: Invariance to Linear Transformations"
   ]
  },
  {
   "cell_type": "code",
   "execution_count": 67,
   "metadata": {},
   "outputs": [
    {
     "name": "stdout",
     "output_type": "stream",
     "text": [
      "original ranking:  _ _ M _\n",
      "relevances:        4 3 2 1\n",
      "Kemedy distances:  protected: 0.00, unprotected: 0.00, difference: 0.00, ratio: 0.00 \n",
      "\n",
      "linear transform:  _ _ M _\n",
      "relevances:        8 6 4 2\n",
      "Kemedy distances:  protected: 0.00, unprotected: 0.00, difference: 0.00, ratio: 0.00 \n",
      "\n",
      "shuffled:          _ M _ _\n",
      "relevances:        4 2 1 3\n",
      "Kemedy distances:  protected: 0.41, unprotected: 0.50, difference: -0.09, ratio: 0.82 \n",
      "\n",
      "linear transform:  _ M _ _\n",
      "relevances:        8 6 4 2\n",
      "Kemedy distances:  protected: 0.41, unprotected: 0.50, difference: -0.09, ratio: 0.82 \n",
      "\n"
     ]
    }
   ],
   "source": [
    "G, ranking = create_graph_ranking(4)\n",
    "nx.function.set_node_attributes(G, {2:True}, 'minority')\n",
    "print('original ranking: ', plot_ranking_short(G, ranking))\n",
    "print('relevances:       ', ' '.join([str(score) for node, score in G.nodes(data='score')]))\n",
    "print('Kemedy distances: ', evaluate_tau(G, ranking), '\\n')\n",
    "\n",
    "scores = {n:(4-n)*2 for n in range(4)}\n",
    "H = G.copy()\n",
    "nx.function.set_node_attributes(H, scores, 'score')\n",
    "print('linear transform: ', plot_ranking_short(H, ranking))\n",
    "print('relevances:       ', ' '.join([str(score) for node, score in H.nodes(data='score')]))\n",
    "print('Kemedy distances: ', evaluate_tau(H, ranking), '\\n')\n",
    "\n",
    "rng = np.random.default_rng()\n",
    "l = list(range(4))\n",
    "rng.shuffle(l)\n",
    "ranking = {i:n for i,n in enumerate(l)}\n",
    "print('shuffled:         ', plot_ranking_short(G, ranking))\n",
    "ranking2 = {node:rank for node, rank in sorted(ranking.items(), key=lambda x:x[1], reverse=True)}\n",
    "print('relevances:       ', ' '.join([str(G.nodes(data='score')[node]) for node, _ in ranking2.items()]))\n",
    "print('Kemedy distances: ', evaluate_tau(G, ranking), '\\n')\n",
    "\n",
    "scores = {n:(4-n)*2 for n in range(4)}\n",
    "nx.function.set_node_attributes(G, scores, 'score')\n",
    "print('linear transform: ', plot_ranking_short(G, ranking))\n",
    "print('relevances:       ', ' '.join([str(score) for node, score in G.nodes(data='score')]))\n",
    "print('Kemedy distances: ', evaluate_tau(G, ranking), '\\n')"
   ]
  },
  {
   "attachments": {},
   "cell_type": "markdown",
   "metadata": {},
   "source": [
    "    Both difference and ratio satisfy the property."
   ]
  },
  {
   "cell_type": "code",
   "execution_count": null,
   "metadata": {},
   "outputs": [],
   "source": []
  }
 ],
 "metadata": {
  "kernelspec": {
   "display_name": "Python 3",
   "language": "python",
   "name": "python3"
  },
  "language_info": {
   "codemirror_mode": {
    "name": "ipython",
    "version": 3
   },
   "file_extension": ".py",
   "mimetype": "text/x-python",
   "name": "python",
   "nbconvert_exporter": "python",
   "pygments_lexer": "ipython3",
   "version": "3.11.3"
  },
  "orig_nbformat": 4
 },
 "nbformat": 4,
 "nbformat_minor": 2
}
